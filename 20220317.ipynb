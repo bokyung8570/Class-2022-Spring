{
  "nbformat": 4,
  "nbformat_minor": 0,
  "metadata": {
    "colab": {
      "name": "20220317.ipynb",
      "provenance": [],
      "authorship_tag": "ABX9TyNo8A7PmSMDbuyrDo1LzRnn",
      "include_colab_link": true
    },
    "kernelspec": {
      "name": "python3",
      "display_name": "Python 3"
    },
    "language_info": {
      "name": "python"
    }
  },
  "cells": [
    {
      "cell_type": "markdown",
      "metadata": {
        "id": "view-in-github",
        "colab_type": "text"
      },
      "source": [
        "<a href=\"https://colab.research.google.com/github/bokyung8570/Class-2022-Spring/blob/main/20220317.ipynb\" target=\"_parent\"><img src=\"https://colab.research.google.com/assets/colab-badge.svg\" alt=\"Open In Colab\"/></a>"
      ]
    },
    {
      "cell_type": "markdown",
      "source": [
        "Data Processing = text, sound, image\n",
        "input -> AI 함수 -> output\n",
        "\n",
        "1. 변수: number, string, list(tuple과 유사-but does not support item assignment), dict\n",
        "2. 문법: if(조건문). for(반복문)\n",
        "3. 함수: 입력 -> 함수-> 출력\n",
        "4. 패키지(library): Numpy(수식, 행렬...), pandas(excel). matplotlib, seaborn,scikit-learn,requests, urlib3, NLTK, pillow, pytest, librosa"
      ],
      "metadata": {
        "id": "WPL9wKw-vzSy"
      }
    },
    {
      "cell_type": "markdown",
      "source": [
        "# 1. Variables"
      ],
      "metadata": {
        "id": "UgrIHfJ4wocf"
      }
    },
    {
      "cell_type": "code",
      "execution_count": 1,
      "metadata": {
        "colab": {
          "base_uri": "https://localhost:8080/"
        },
        "id": "3jdP5gZBveF-",
        "outputId": "0f88746a-733b-4df9-b5ba-1aa827533832"
      },
      "outputs": [
        {
          "output_type": "stream",
          "name": "stdout",
          "text": [
            "<class 'int'>\n"
          ]
        }
      ],
      "source": [
        "a = 1; print(type(a)) #정수"
      ]
    },
    {
      "cell_type": "code",
      "source": [
        "a = 1.1; print(type(a)) #실수(소수, 1.0 ...)"
      ],
      "metadata": {
        "colab": {
          "base_uri": "https://localhost:8080/"
        },
        "id": "pGFUO6_7xMJC",
        "outputId": "d55ebdaf-6f62-4733-9718-39532dacce81"
      },
      "execution_count": 2,
      "outputs": [
        {
          "output_type": "stream",
          "name": "stdout",
          "text": [
            "<class 'float'>\n"
          ]
        }
      ]
    },
    {
      "cell_type": "code",
      "source": [
        "a = '123'; print(type(a)); print(a[1]) #''안에 들어있는 것(숫자 포함), \"\" 도 사용 가능. "
      ],
      "metadata": {
        "colab": {
          "base_uri": "https://localhost:8080/"
        },
        "id": "uc6zRCfaxNdL",
        "outputId": "6c62912d-dca4-41a8-e3eb-21fefc122d98"
      },
      "execution_count": 3,
      "outputs": [
        {
          "output_type": "stream",
          "name": "stdout",
          "text": [
            "<class 'str'>\n",
            "2\n"
          ]
        }
      ]
    },
    {
      "cell_type": "code",
      "source": [
        "a = 'hello'; print(type(a)); print(a[1]) "
      ],
      "metadata": {
        "colab": {
          "base_uri": "https://localhost:8080/"
        },
        "id": "qFGEH6NLxPCh",
        "outputId": "e36d8d2f-f2c2-4d90-9fbc-d7dea1b06b95"
      },
      "execution_count": 4,
      "outputs": [
        {
          "output_type": "stream",
          "name": "stdout",
          "text": [
            "<class 'str'>\n",
            "e\n"
          ]
        }
      ]
    },
    {
      "cell_type": "code",
      "source": [
        "a = [1, 2, 3, 4]; print(type(a)); print(a[0]) #[]안에 들어있는 것, 첫번째 순서가 0번쨰임"
      ],
      "metadata": {
        "colab": {
          "base_uri": "https://localhost:8080/"
        },
        "id": "3Od1kO_SxRoO",
        "outputId": "deab74b5-919c-4967-91b6-b30649a2b2ec"
      },
      "execution_count": 5,
      "outputs": [
        {
          "output_type": "stream",
          "name": "stdout",
          "text": [
            "<class 'list'>\n",
            "1\n"
          ]
        }
      ]
    },
    {
      "cell_type": "markdown",
      "source": [
        " *List Indexing: \n",
        " a[0] ->1\n",
        " a[1:3]-> [2,3] **마지막 범위는 포함하지 않음\n",
        " \n",
        " ex) a = [1,2,3,4,5,6,7,8,9,10]\n",
        " a[2:] -> 3~10\n",
        " a[2:-2] -> 3~9\n",
        "\n",
        " +) list와 string은 indexing 하는 방법 동일\n"
      ],
      "metadata": {
        "id": "fCQfDlCQxvjW"
      }
    },
    {
      "cell_type": "code",
      "source": [
        "a = [1,'a', [3, '4']]; print(type(a)); print(a[0]); print(a[1]); print(a[2]); print(a[2][1])"
      ],
      "metadata": {
        "colab": {
          "base_uri": "https://localhost:8080/"
        },
        "id": "qZiZnc6cxT2F",
        "outputId": "7331fec2-8e86-4f0b-8e80-2f4e90bea66f"
      },
      "execution_count": 6,
      "outputs": [
        {
          "output_type": "stream",
          "name": "stdout",
          "text": [
            "<class 'list'>\n",
            "1\n",
            "a\n",
            "[3, '4']\n",
            "4\n"
          ]
        }
      ]
    },
    {
      "cell_type": "code",
      "source": [
        "a =\t{\"a\": \"apple\", \"b\": \"orange\", \"c\": 2014} #{} 중괄호 안에 들어있는 것. \n",
        "print(type(a))\n",
        "print(a[\"a\"])"
      ],
      "metadata": {
        "colab": {
          "base_uri": "https://localhost:8080/"
        },
        "id": "FfIH7LaNxU5W",
        "outputId": "29c4ee34-a3d8-482d-a203-dbfef6fae7bc"
      },
      "execution_count": 7,
      "outputs": [
        {
          "output_type": "stream",
          "name": "stdout",
          "text": [
            "<class 'dict'>\n",
            "apple\n"
          ]
        }
      ]
    },
    {
      "cell_type": "markdown",
      "source": [
        "# 2. String\n",
        "\n"
      ],
      "metadata": {
        "id": "ybESQYYuySoa"
      }
    },
    {
      "cell_type": "code",
      "source": [
        "s = 'abcdef'\n",
        "print(s[0], s[5], s[-1], s[-6]) #-1번쨰는 0번쨰 하나 뒤 / [:]는 전부 다\n",
        "print(s[1:3], s[1:], s[:3], s[:])"
      ],
      "metadata": {
        "colab": {
          "base_uri": "https://localhost:8080/"
        },
        "id": "0oqC_GmhyXDg",
        "outputId": "5cd664fa-8151-495c-d2b1-4edece42c8a6"
      },
      "execution_count": 8,
      "outputs": [
        {
          "output_type": "stream",
          "name": "stdout",
          "text": [
            "a f f a\n",
            "bc bcdef abc abcdef\n"
          ]
        }
      ]
    },
    {
      "cell_type": "code",
      "source": [
        "n = [100, 200, 300]\n",
        "print(n[0], n[2], n[-1], n[-3])\n",
        "print(n[1:2], n[1:], n[:2], n[:])"
      ],
      "metadata": {
        "colab": {
          "base_uri": "https://localhost:8080/"
        },
        "id": "v1kmSXlkybBe",
        "outputId": "90e87339-e4a2-4ff5-d428-628d444e311a"
      },
      "execution_count": 9,
      "outputs": [
        {
          "output_type": "stream",
          "name": "stdout",
          "text": [
            "100 300 300 100\n",
            "[200] [200, 300] [100, 200] [100, 200, 300]\n"
          ]
        }
      ]
    },
    {
      "cell_type": "code",
      "source": [
        "len(s)  #길이"
      ],
      "metadata": {
        "colab": {
          "base_uri": "https://localhost:8080/"
        },
        "id": "4zPP-wHtycBW",
        "outputId": "aafe8339-e5d4-43ad-b042-f35273fed274"
      },
      "execution_count": 10,
      "outputs": [
        {
          "output_type": "execute_result",
          "data": {
            "text/plain": [
              "6"
            ]
          },
          "metadata": {},
          "execution_count": 10
        }
      ]
    },
    {
      "cell_type": "code",
      "source": [
        "s[1]+s[3]+s[4:]*10"
      ],
      "metadata": {
        "colab": {
          "base_uri": "https://localhost:8080/",
          "height": 35
        },
        "id": "xMIxz1wEydI7",
        "outputId": "f48a024f-7253-494b-f164-fe064566ae63"
      },
      "execution_count": 11,
      "outputs": [
        {
          "output_type": "execute_result",
          "data": {
            "text/plain": [
              "'bdefefefefefefefefefef'"
            ],
            "application/vnd.google.colaboratory.intrinsic+json": {
              "type": "string"
            }
          },
          "metadata": {},
          "execution_count": 11
        }
      ]
    },
    {
      "cell_type": "code",
      "source": [
        "s.upper() #대문자로 만들어줌"
      ],
      "metadata": {
        "colab": {
          "base_uri": "https://localhost:8080/",
          "height": 35
        },
        "id": "Hfe4AzBYyeNz",
        "outputId": "e1335659-157b-4d19-ada8-766132103018"
      },
      "execution_count": 12,
      "outputs": [
        {
          "output_type": "execute_result",
          "data": {
            "text/plain": [
              "'ABCDEF'"
            ],
            "application/vnd.google.colaboratory.intrinsic+json": {
              "type": "string"
            }
          },
          "metadata": {},
          "execution_count": 12
        }
      ]
    },
    {
      "cell_type": "code",
      "source": [
        "s = ' this is a house built this year.\\n' \t#첫번째 빈칸부터 0번째\n",
        "s #마지막 줄에 있으면 print 효과 있음"
      ],
      "metadata": {
        "colab": {
          "base_uri": "https://localhost:8080/",
          "height": 35
        },
        "id": "lbiT_IuzyfdX",
        "outputId": "5074d162-548f-4415-9fd0-a3c994763467"
      },
      "execution_count": 13,
      "outputs": [
        {
          "output_type": "execute_result",
          "data": {
            "text/plain": [
              "' this is a house built this year.\\n'"
            ],
            "application/vnd.google.colaboratory.intrinsic+json": {
              "type": "string"
            }
          },
          "metadata": {},
          "execution_count": 13
        }
      ]
    },
    {
      "cell_type": "code",
      "source": [
        "result = s.find('house') \t    # index of first instance of string t inside s (-1 if not found)\n",
        "result"
      ],
      "metadata": {
        "colab": {
          "base_uri": "https://localhost:8080/"
        },
        "id": "8hIeCPxAygzn",
        "outputId": "172f0bd4-06a5-4e48-af6a-0788a58f21a3"
      },
      "execution_count": 14,
      "outputs": [
        {
          "output_type": "execute_result",
          "data": {
            "text/plain": [
              "11"
            ]
          },
          "metadata": {},
          "execution_count": 14
        }
      ]
    },
    {
      "cell_type": "code",
      "source": [
        "result = s.find('this')\t      # index of first instance of string t inside s (-1 if not found)\n",
        "result   #빈칸이 0번째, this이 1번쨰\n",
        "1"
      ],
      "metadata": {
        "colab": {
          "base_uri": "https://localhost:8080/"
        },
        "id": "1uehFx6Eyh3u",
        "outputId": "eb483252-e430-4f5e-ac6a-d07f6140eba0"
      },
      "execution_count": 15,
      "outputs": [
        {
          "output_type": "execute_result",
          "data": {
            "text/plain": [
              "1"
            ]
          },
          "metadata": {},
          "execution_count": 15
        }
      ]
    },
    {
      "cell_type": "code",
      "source": [
        "s = s.strip()      \t          # a copy of s without leading or trailing whitespace  #빈칸과 /n 모두 지워줌\n",
        "s"
      ],
      "metadata": {
        "colab": {
          "base_uri": "https://localhost:8080/",
          "height": 35
        },
        "id": "kjSHr5_6yi3O",
        "outputId": "fb2ffa30-3b35-4aa0-9d61-f0b5b6c772ef"
      },
      "execution_count": 16,
      "outputs": [
        {
          "output_type": "execute_result",
          "data": {
            "text/plain": [
              "'this is a house built this year.'"
            ],
            "application/vnd.google.colaboratory.intrinsic+json": {
              "type": "string"
            }
          },
          "metadata": {},
          "execution_count": 16
        }
      ]
    },
    {
      "cell_type": "code",
      "source": [
        "tokens = s.split(' ')\t        # split s into a list wherever a t is found (whitespace by default) #빈칸 기준으로 쪼개서 list로 만듦\n",
        "tokens"
      ],
      "metadata": {
        "colab": {
          "base_uri": "https://localhost:8080/"
        },
        "id": "ZhH5LmIuykJe",
        "outputId": "880c795f-7f3e-4145-eecf-8858b0eb7661"
      },
      "execution_count": 17,
      "outputs": [
        {
          "output_type": "execute_result",
          "data": {
            "text/plain": [
              "['this', 'is', 'a', 'house', 'built', 'this', 'year.']"
            ]
          },
          "metadata": {},
          "execution_count": 17
        }
      ]
    },
    {
      "cell_type": "code",
      "source": [
        "s = ' '.join(tokens)\t        # combine the words of the text into a string using s as the glue #빈칸 이용해서 다시 합쳐라\n",
        "s"
      ],
      "metadata": {
        "colab": {
          "base_uri": "https://localhost:8080/",
          "height": 35
        },
        "id": "U_yfgxaOylVj",
        "outputId": "80e9d683-a7f3-425b-abfa-0c7a8d1a2f5e"
      },
      "execution_count": 18,
      "outputs": [
        {
          "output_type": "execute_result",
          "data": {
            "text/plain": [
              "'this is a house built this year.'"
            ],
            "application/vnd.google.colaboratory.intrinsic+json": {
              "type": "string"
            }
          },
          "metadata": {},
          "execution_count": 18
        }
      ]
    },
    {
      "cell_type": "code",
      "source": [
        "s = s.replace('this', 'that') # replace instances of t with u inside s\n",
        "s"
      ],
      "metadata": {
        "colab": {
          "base_uri": "https://localhost:8080/",
          "height": 35
        },
        "id": "UZECROp9ymMz",
        "outputId": "b6aa6f3a-cb81-4607-ed39-3d337e4203e2"
      },
      "execution_count": 19,
      "outputs": [
        {
          "output_type": "execute_result",
          "data": {
            "text/plain": [
              "'that is a house built that year.'"
            ],
            "application/vnd.google.colaboratory.intrinsic+json": {
              "type": "string"
            }
          },
          "metadata": {},
          "execution_count": 19
        }
      ]
    },
    {
      "cell_type": "markdown",
      "source": [
        "# 3. Function\n"
      ],
      "metadata": {
        "id": "YW8xB-pezawE"
      }
    },
    {
      "cell_type": "markdown",
      "source": [
        "def 함수명(입력변수1, 입력변수2, ...):\n",
        "  return 출력변수1, 출력변수2,..."
      ],
      "metadata": {
        "id": "gUjD17cMzkcJ"
      }
    },
    {
      "cell_type": "code",
      "source": [
        "def add(a,b):                            #함수이름 아무거나 가능\n",
        "  return a+b                             #입출력 선택적으로 표시 ex) def add(a,b):\n",
        "                                                                       #c = a+b\n",
        "                                                                       #c\n",
        "\n",
        "def subtract(a,b):\n",
        "  return a-b\n",
        "\n",
        "def multiply(a,b):\n",
        "  return a*b\n",
        "\n",
        "def divide(a,b):\n",
        "  return a/b"
      ],
      "metadata": {
        "id": "t26_jq3mzcuq"
      },
      "execution_count": 20,
      "outputs": []
    },
    {
      "cell_type": "code",
      "source": [
        "c = add(1,2); print(c)                  #위에 거를 실행해야 가능 = 함수가 정의되어야 함. \n",
        "c = subtract(1,2); print(c)\n",
        "c = multiply(1,2); print(c)\n",
        "c = divide(1,2); print(c)"
      ],
      "metadata": {
        "colab": {
          "base_uri": "https://localhost:8080/"
        },
        "id": "DQb--RGAzhwV",
        "outputId": "b12fc2ed-53b1-472d-eee4-c12a3b2e7f94"
      },
      "execution_count": 21,
      "outputs": [
        {
          "output_type": "stream",
          "name": "stdout",
          "text": [
            "3\n",
            "-1\n",
            "2\n",
            "0.5\n"
          ]
        }
      ]
    },
    {
      "cell_type": "markdown",
      "source": [
        "# 3. Syntax"
      ],
      "metadata": {
        "id": "nASCWdRwz-N0"
      }
    },
    {
      "cell_type": "markdown",
      "source": [
        "반복문 for/while/,,,\n",
        "조건문 if/switch/..."
      ],
      "metadata": {
        "id": "Zn8WCr4p0Ayd"
      }
    },
    {
      "cell_type": "code",
      "source": [
        "a = [1, 2, 3, 4]\n",
        "for i in a:         #a에 있는 것들을 i로 처음부터 하나하나씩 받아서 돌린다 = for loop\n",
        "    print(i)        #indent는 필수! for loop이 4번 돌아감"
      ],
      "metadata": {
        "colab": {
          "base_uri": "https://localhost:8080/"
        },
        "id": "UcY9hO5l9iGQ",
        "outputId": "0af1a2f5-39d2-433e-d3ac-529c9668f5cd"
      },
      "execution_count": 24,
      "outputs": [
        {
          "output_type": "stream",
          "name": "stdout",
          "text": [
            "1\n",
            "2\n",
            "3\n",
            "4\n"
          ]
        }
      ]
    },
    {
      "cell_type": "code",
      "source": [
        "a = [1, 2, 3, 4]\n",
        "for i in range(len(a)):       #len(a)=4 / range함수는 [0,1,2,3]이라는 list 생성\n",
        "    print(a[i])"
      ],
      "metadata": {
        "colab": {
          "base_uri": "https://localhost:8080/"
        },
        "id": "rjbHQP2G9jwd",
        "outputId": "1251a98a-e80d-4e2a-f40e-5d1d8e57c6e7"
      },
      "execution_count": 23,
      "outputs": [
        {
          "output_type": "stream",
          "name": "stdout",
          "text": [
            "1\n",
            "2\n",
            "3\n",
            "4\n"
          ]
        }
      ]
    },
    {
      "cell_type": "code",
      "source": [
        "a = ['red', 'green', 'blue', 'purple']\n",
        "for i in a:\n",
        "    print(i)"
      ],
      "metadata": {
        "colab": {
          "base_uri": "https://localhost:8080/"
        },
        "id": "cjmWATun9lrH",
        "outputId": "e1b0846f-51b8-4f5e-fe99-21c60ebd68b0"
      },
      "execution_count": 25,
      "outputs": [
        {
          "output_type": "stream",
          "name": "stdout",
          "text": [
            "red\n",
            "green\n",
            "blue\n",
            "purple\n"
          ]
        }
      ]
    },
    {
      "cell_type": "code",
      "source": [
        "a = ['red', 'green', 'blue', 'purple']\n",
        "for i in range(len(a)):\n",
        "    print(a[i])"
      ],
      "metadata": {
        "colab": {
          "base_uri": "https://localhost:8080/"
        },
        "id": "sGRgQyZd9oW4",
        "outputId": "c964ffe6-8b53-4a29-cf2b-ed89874e0e40"
      },
      "execution_count": 26,
      "outputs": [
        {
          "output_type": "stream",
          "name": "stdout",
          "text": [
            "red\n",
            "green\n",
            "blue\n",
            "purple\n"
          ]
        }
      ]
    },
    {
      "cell_type": "code",
      "source": [
        "a = 0                     # =: assign 해주는 기호 / ==: 같다는 것을 나타내는 기호(cf. !=는 '아니라면')\n",
        "if a == 0:\n",
        "    print(a)\n",
        "else:\n",
        "    print(a+1)"
      ],
      "metadata": {
        "colab": {
          "base_uri": "https://localhost:8080/"
        },
        "id": "ITzdoBwo9pWA",
        "outputId": "3b2e38ee-5fdd-4f62-ea5a-d4564b1cf1bf"
      },
      "execution_count": 27,
      "outputs": [
        {
          "output_type": "stream",
          "name": "stdout",
          "text": [
            "0\n"
          ]
        }
      ]
    },
    {
      "cell_type": "code",
      "source": [
        "for i in range(1, 3):      #[1,2]\n",
        "    for j in range(3, 5):  #[3,4]\n",
        "        print(i*j)         #1*3, 1*4, 2*3, 2*4"
      ],
      "metadata": {
        "colab": {
          "base_uri": "https://localhost:8080/"
        },
        "id": "EJznfcAs9qXU",
        "outputId": "d79c5e34-06b0-4666-edb8-9df7db51e774"
      },
      "execution_count": 28,
      "outputs": [
        {
          "output_type": "stream",
          "name": "stdout",
          "text": [
            "3\n",
            "4\n",
            "6\n",
            "8\n"
          ]
        }
      ]
    },
    {
      "cell_type": "code",
      "source": [
        "for i in range(1, 3):\n",
        "    for j in range(3, 5):\n",
        "        if j >=4: # 4 only\n",
        "            print(i*j)"
      ],
      "metadata": {
        "colab": {
          "base_uri": "https://localhost:8080/"
        },
        "id": "2pZfyq7Q9sc-",
        "outputId": "628a597b-f8d0-446d-f489-1c7d2df24b10"
      },
      "execution_count": 29,
      "outputs": [
        {
          "output_type": "stream",
          "name": "stdout",
          "text": [
            "4\n",
            "8\n"
          ]
        }
      ]
    },
    {
      "cell_type": "markdown",
      "source": [
        "* **List Comprehension**"
      ],
      "metadata": {
        "id": "GXpLCGDj-lR1"
      }
    },
    {
      "cell_type": "code",
      "source": [
        "a = [1, 2, 3, 4]\n",
        "b = [i for i in a if i >=2]    # a에 있는 것 하나씩 i로 받음\n",
        "b"
      ],
      "metadata": {
        "colab": {
          "base_uri": "https://localhost:8080/"
        },
        "id": "lkmgu__k9tbw",
        "outputId": "c35428c5-853b-48ea-ce61-4d18ddd426b9"
      },
      "execution_count": 30,
      "outputs": [
        {
          "output_type": "execute_result",
          "data": {
            "text/plain": [
              "[2, 3, 4]"
            ]
          },
          "metadata": {},
          "execution_count": 30
        }
      ]
    },
    {
      "cell_type": "code",
      "source": [
        "a = ['red', 'green', 'blue', 'purple']\n",
        "b = [i for i in a if len(i) >=4]\n",
        "b"
      ],
      "metadata": {
        "colab": {
          "base_uri": "https://localhost:8080/"
        },
        "id": "99KJ_-5g9uXp",
        "outputId": "47742023-e780-4212-aab6-8b8395cadbd9"
      },
      "execution_count": 31,
      "outputs": [
        {
          "output_type": "execute_result",
          "data": {
            "text/plain": [
              "['green', 'blue', 'purple']"
            ]
          },
          "metadata": {},
          "execution_count": 31
        }
      ]
    },
    {
      "cell_type": "markdown",
      "source": [
        "* **Dict Comprehension**"
      ],
      "metadata": {
        "id": "sraBtUTM-zMj"
      }
    },
    {
      "cell_type": "code",
      "source": [
        "a = ['red', 'green', 'blue', 'purple']\n",
        "b = [1, 2, 3, 4]\n",
        "c = {a[i]:b[i] for i in range(4)}   #{a[0]:b[0], a[1]:b[1],...}\n",
        "c #순서 중요하지 않음."
      ],
      "metadata": {
        "colab": {
          "base_uri": "https://localhost:8080/"
        },
        "id": "TZ056iR99vTg",
        "outputId": "1bf0c526-bcb7-46a7-8e0e-1390692d3fc9"
      },
      "execution_count": 32,
      "outputs": [
        {
          "output_type": "execute_result",
          "data": {
            "text/plain": [
              "{'blue': 3, 'green': 2, 'purple': 4, 'red': 1}"
            ]
          },
          "metadata": {},
          "execution_count": 32
        }
      ]
    },
    {
      "cell_type": "markdown",
      "source": [
        "# Import"
      ],
      "metadata": {
        "id": "1pYMqLFJ_f-2"
      }
    },
    {
      "cell_type": "markdown",
      "source": [
        "1. Install: 파일을 컴퓨터에 다운. 유명하지 안은 패키지일 경우 isntall 후 import해야 함. \n",
        "2. import: numpy, pandas, matplotlib 등을 ram으로 올리는 것. \n",
        "3. built-in: print, len, 같이 import가 필요 없음"
      ],
      "metadata": {
        "id": "kKkUbT8k_iRq"
      }
    },
    {
      "cell_type": "code",
      "source": [
        "import numpy   #random number generate해줌. 행렬, 통계처리 등등 AI와 Data Science에 중요"
      ],
      "metadata": {
        "id": "KPSLq7qh_sm2"
      },
      "execution_count": 33,
      "outputs": []
    },
    {
      "cell_type": "code",
      "source": [
        "import numpy as np\n",
        "n = np.random.randn(100)   #randn는 평균 0, 표준편차 1이 그려짐"
      ],
      "metadata": {
        "id": "WbXi8iSl_99q"
      },
      "execution_count": 34,
      "outputs": []
    },
    {
      "cell_type": "code",
      "source": [
        "import matplotlib\n",
        "matplotlib.pyplot.hist(n)    #히스토그램으로 그려짐"
      ],
      "metadata": {
        "colab": {
          "base_uri": "https://localhost:8080/",
          "height": 357
        },
        "id": "eltMy240AD8x",
        "outputId": "5d3f5c33-afa6-49df-adb7-19be176ad32d"
      },
      "execution_count": 35,
      "outputs": [
        {
          "output_type": "execute_result",
          "data": {
            "text/plain": [
              "(array([ 3.,  3.,  6., 17., 13., 20.,  9., 16., 10.,  3.]),\n",
              " array([-2.58333769, -2.11198262, -1.64062756, -1.16927249, -0.69791742,\n",
              "        -0.22656236,  0.24479271,  0.71614777,  1.18750284,  1.65885791,\n",
              "         2.13021297]),\n",
              " <a list of 10 Patch objects>)"
            ]
          },
          "metadata": {},
          "execution_count": 35
        },
        {
          "output_type": "display_data",
          "data": {
            "text/plain": [
              "<Figure size 432x288 with 1 Axes>"
            ],
            "image/png": "[encoded data removed]"
          },
          "metadata": {
            "needs_background": "light"
          }
        }
      ]
    },
    {
      "cell_type": "code",
      "source": [
        "import matplotlib.pyplot   #다른 방법 1(약간 귀찮)\n",
        "matplotlib.pyplot.hist(n)"
      ],
      "metadata": {
        "colab": {
          "base_uri": "https://localhost:8080/",
          "height": 357
        },
        "id": "JxTobDvFAKqt",
        "outputId": "17ff0e50-3242-4f0b-caad-a9492f9070d1"
      },
      "execution_count": 36,
      "outputs": [
        {
          "output_type": "execute_result",
          "data": {
            "text/plain": [
              "(array([ 3.,  3.,  6., 17., 13., 20.,  9., 16., 10.,  3.]),\n",
              " array([-2.58333769, -2.11198262, -1.64062756, -1.16927249, -0.69791742,\n",
              "        -0.22656236,  0.24479271,  0.71614777,  1.18750284,  1.65885791,\n",
              "         2.13021297]),\n",
              " <a list of 10 Patch objects>)"
            ]
          },
          "metadata": {},
          "execution_count": 36
        },
        {
          "output_type": "display_data",
          "data": {
            "text/plain": [
              "<Figure size 432x288 with 1 Axes>"
            ],
            "image/png": "[encoded data removed]"
          },
          "metadata": {
            "needs_background": "light"
          }
        }
      ]
    },
    {
      "cell_type": "code",
      "source": [
        "import matplotlib.pyplot as plt   #다른 방법 2: as plt를 써서  더 간단하게 함. plt말고 p등 아무거나 가능\n",
        "plt.hist(n)"
      ],
      "metadata": {
        "colab": {
          "base_uri": "https://localhost:8080/",
          "height": 357
        },
        "id": "ikfO02R3AO_Y",
        "outputId": "2ed990f8-3daf-4207-ff14-ef10e4e0f123"
      },
      "execution_count": 37,
      "outputs": [
        {
          "output_type": "execute_result",
          "data": {
            "text/plain": [
              "(array([ 3.,  3.,  6., 17., 13., 20.,  9., 16., 10.,  3.]),\n",
              " array([-2.58333769, -2.11198262, -1.64062756, -1.16927249, -0.69791742,\n",
              "        -0.22656236,  0.24479271,  0.71614777,  1.18750284,  1.65885791,\n",
              "         2.13021297]),\n",
              " <a list of 10 Patch objects>)"
            ]
          },
          "metadata": {},
          "execution_count": 37
        },
        {
          "output_type": "display_data",
          "data": {
            "text/plain": [
              "<Figure size 432x288 with 1 Axes>"
            ],
            "image/png": "[encoded data removed]"
          },
          "metadata": {
            "needs_background": "light"
          }
        }
      ]
    },
    {
      "cell_type": "markdown",
      "source": [
        "*from import를 쓰면 import as 처럼 축약해서 부를 수 있는 효과가 생김"
      ],
      "metadata": {
        "id": "AWYUe2mXAZ-I"
      }
    },
    {
      "cell_type": "code",
      "source": [
        "from matplotlib import pyplot #다른 방법 3\n",
        "pyplot.hist(n)"
      ],
      "metadata": {
        "colab": {
          "base_uri": "https://localhost:8080/",
          "height": 357
        },
        "id": "5AXy6MMyAYop",
        "outputId": "b3290746-e432-458a-c932-5e3c9bf24797"
      },
      "execution_count": 38,
      "outputs": [
        {
          "output_type": "execute_result",
          "data": {
            "text/plain": [
              "(array([ 3.,  3.,  6., 17., 13., 20.,  9., 16., 10.,  3.]),\n",
              " array([-2.58333769, -2.11198262, -1.64062756, -1.16927249, -0.69791742,\n",
              "        -0.22656236,  0.24479271,  0.71614777,  1.18750284,  1.65885791,\n",
              "         2.13021297]),\n",
              " <a list of 10 Patch objects>)"
            ]
          },
          "metadata": {},
          "execution_count": 38
        },
        {
          "output_type": "display_data",
          "data": {
            "text/plain": [
              "<Figure size 432x288 with 1 Axes>"
            ],
            "image/png": "[encoded data removed]"
          },
          "metadata": {
            "needs_background": "light"
          }
        }
      ]
    },
    {
      "cell_type": "code",
      "source": [
        "from matplotlib.pyplot import hist  #다른 방법4\n",
        "hist(n)"
      ],
      "metadata": {
        "colab": {
          "base_uri": "https://localhost:8080/",
          "height": 357
        },
        "id": "9sCT1reEAnLG",
        "outputId": "d7f1d797-1feb-4541-dd9d-d253a78e275f"
      },
      "execution_count": 39,
      "outputs": [
        {
          "output_type": "execute_result",
          "data": {
            "text/plain": [
              "(array([ 3.,  3.,  6., 17., 13., 20.,  9., 16., 10.,  3.]),\n",
              " array([-2.58333769, -2.11198262, -1.64062756, -1.16927249, -0.69791742,\n",
              "        -0.22656236,  0.24479271,  0.71614777,  1.18750284,  1.65885791,\n",
              "         2.13021297]),\n",
              " <a list of 10 Patch objects>)"
            ]
          },
          "metadata": {},
          "execution_count": 39
        },
        {
          "output_type": "display_data",
          "data": {
            "text/plain": [
              "<Figure size 432x288 with 1 Axes>"
            ],
            "image/png": "[encoded data removed]"
          },
          "metadata": {
            "needs_background": "light"
          }
        }
      ]
    },
    {
      "cell_type": "markdown",
      "source": [
        "# 4. numpy_matplotlib.ipynb\n"
      ],
      "metadata": {
        "id": "FRx0gso0Aslt"
      }
    },
    {
      "cell_type": "markdown",
      "source": [
        "**1. create nd arrays(matrices)**"
      ],
      "metadata": {
        "id": "PP2rutMaAxh0"
      }
    },
    {
      "cell_type": "code",
      "source": [
        "import numpy as np"
      ],
      "metadata": {
        "id": "z_01c5qjAxJ4"
      },
      "execution_count": 40,
      "outputs": []
    },
    {
      "cell_type": "code",
      "source": [
        "x = np.array([1,2,3])    #np.array는 list를 array로 바꿔줌. \n",
        "print(x)\n",
        "print(type(x))\n",
        "print(x.shape)          #1차원(벡터)-> 1d array"
      ],
      "metadata": {
        "colab": {
          "base_uri": "https://localhost:8080/"
        },
        "id": "FuoGCX2zA8so",
        "outputId": "62c82330-817f-4c46-d091-e61343cc1652"
      },
      "execution_count": 41,
      "outputs": [
        {
          "output_type": "stream",
          "name": "stdout",
          "text": [
            "[1 2 3]\n",
            "<class 'numpy.ndarray'>\n",
            "(3,)\n"
          ]
        }
      ]
    },
    {
      "cell_type": "code",
      "source": [
        "x = np.arange(0,10,2)   #0에서 9까지(10 미포함!!) 2씩 increment\n",
        "print(x)\n",
        "print(type(x))\n",
        "print(x.shape)"
      ],
      "metadata": {
        "colab": {
          "base_uri": "https://localhost:8080/"
        },
        "id": "kCjt6eYrBE1g",
        "outputId": "91d56c34-5bf4-441f-9f31-529ff367ba98"
      },
      "execution_count": 42,
      "outputs": [
        {
          "output_type": "stream",
          "name": "stdout",
          "text": [
            "[0 2 4 6 8]\n",
            "<class 'numpy.ndarray'>\n",
            "(5,)\n"
          ]
        }
      ]
    },
    {
      "cell_type": "code",
      "source": [
        "x = np.linspace(0,10,6) #0에서 10까지(10 포함!!) 등분해서 총 6개 숫자\n",
        "print(x)\n",
        "print(type(x))\n",
        "print(x.shape)"
      ],
      "metadata": {
        "colab": {
          "base_uri": "https://localhost:8080/"
        },
        "id": "AdJ_sdBuBPQs",
        "outputId": "e9e59739-db41-47f9-de4a-031412d61711"
      },
      "execution_count": 43,
      "outputs": [
        {
          "output_type": "stream",
          "name": "stdout",
          "text": [
            "[ 0.  2.  4.  6.  8. 10.]\n",
            "<class 'numpy.ndarray'>\n",
            "(6,)\n"
          ]
        }
      ]
    },
    {
      "cell_type": "code",
      "source": [
        "x = np.array([[1,2,3], [4,5,6]])  #이중 list\n",
        "print(x)\n",
        "print(type(x))\n",
        "print(x.shape)                 #2d array"
      ],
      "metadata": {
        "colab": {
          "base_uri": "https://localhost:8080/"
        },
        "id": "YMFYq364BVYf",
        "outputId": "dcbe0a08-edcf-4d6c-8fe2-f9b859743767"
      },
      "execution_count": 44,
      "outputs": [
        {
          "output_type": "stream",
          "name": "stdout",
          "text": [
            "[[1 2 3]\n",
            " [4 5 6]]\n",
            "<class 'numpy.ndarray'>\n",
            "(2, 3)\n"
          ]
        }
      ]
    },
    {
      "cell_type": "code",
      "source": [
        "x = np.array([[[1,2,3], [4,5,6]], [[7,8,9], [10,11,12]]])\n",
        "print(x)\n",
        "print(type(x))\n",
        "print(x.shape)   #[]대괄호가 3개니까 3d array"
      ],
      "metadata": {
        "colab": {
          "base_uri": "https://localhost:8080/"
        },
        "id": "gNUosc3HBbj-",
        "outputId": "822493f7-0093-47ea-bc97-3c82aead966c"
      },
      "execution_count": 45,
      "outputs": [
        {
          "output_type": "stream",
          "name": "stdout",
          "text": [
            "[[[ 1  2  3]\n",
            "  [ 4  5  6]]\n",
            "\n",
            " [[ 7  8  9]\n",
            "  [10 11 12]]]\n",
            "<class 'numpy.ndarray'>\n",
            "(2, 2, 3)\n"
          ]
        }
      ]
    },
    {
      "cell_type": "code",
      "source": [
        "x = np.ones([2, 2, 3])   #zeroes 하면 0\n",
        "print(x)\n",
        "print(type(x))\n",
        "print(x.shape)"
      ],
      "metadata": {
        "colab": {
          "base_uri": "https://localhost:8080/"
        },
        "id": "llZZKtjYBg6T",
        "outputId": "29ea551d-2c89-4202-f9d3-9c116f4db294"
      },
      "execution_count": 46,
      "outputs": [
        {
          "output_type": "stream",
          "name": "stdout",
          "text": [
            "[[[1. 1. 1.]\n",
            "  [1. 1. 1.]]\n",
            "\n",
            " [[1. 1. 1.]\n",
            "  [1. 1. 1.]]]\n",
            "<class 'numpy.ndarray'>\n",
            "(2, 2, 3)\n"
          ]
        }
      ]
    },
    {
      "cell_type": "markdown",
      "source": [
        "**2.create random numbers(난수)**"
      ],
      "metadata": {
        "id": "YrLOLrFMBkaZ"
      }
    },
    {
      "cell_type": "code",
      "source": [
        "np.random.normal(0, 1, [2,3,4]) #normal이라는 함수/ mean=0. s.d.=1/ 2 by 3 by 4의 nd array"
      ],
      "metadata": {
        "colab": {
          "base_uri": "https://localhost:8080/"
        },
        "id": "f3HSEDhMBjSi",
        "outputId": "1e51f8e9-2118-49c6-e9f3-d4de5d353dfa"
      },
      "execution_count": 47,
      "outputs": [
        {
          "output_type": "execute_result",
          "data": {
            "text/plain": [
              "array([[[ 0.49409923,  0.92884088,  0.04175799, -0.53634354],\n",
              "        [ 0.50831868, -0.43123388, -0.48167257, -1.48111214],\n",
              "        [ 0.15234176, -0.75393927, -1.01411396, -0.1232532 ]],\n",
              "\n",
              "       [[-1.3149398 ,  0.19482784, -1.6289959 ,  1.30064892],\n",
              "        [ 1.46072107,  0.47940491,  1.46574005,  0.46066095],\n",
              "        [-0.55851771, -2.17913863,  0.65748596, -1.8682556 ]]])"
            ]
          },
          "metadata": {},
          "execution_count": 47
        }
      ]
    },
    {
      "cell_type": "code",
      "source": [
        "import matplotlib.pyplot as plt"
      ],
      "metadata": {
        "id": "2oktUxswByRQ"
      },
      "execution_count": 48,
      "outputs": []
    },
    {
      "cell_type": "code",
      "source": [
        "x = np.random.normal(0, 1, 100)  #1d array(긴 1줄 숫자 100개)\n",
        "print(x)\n",
        "plt.hist(x, bins=10)   #bins는 통"
      ],
      "metadata": {
        "colab": {
          "base_uri": "https://localhost:8080/",
          "height": 669
        },
        "id": "2lldb5S8BzKT",
        "outputId": "d0f6263d-febd-4916-bb0d-52474e45e0b4"
      },
      "execution_count": 49,
      "outputs": [
        {
          "output_type": "stream",
          "name": "stdout",
          "text": [
            "[ 1.65286565 -0.39332193  1.50756212  2.50899237  0.41762789  1.8800647\n",
            "  2.46119172 -0.4310693  -0.10933545  0.42333211  0.26641807 -1.33220947\n",
            " -0.15653888  0.62237224 -0.21384631 -0.07754994 -1.33988421 -0.61268978\n",
            " -0.89076777  0.85111227  0.47004819 -0.15521084  0.64145795  0.55602332\n",
            " -0.54024755 -1.54303946 -0.92774067  1.76832195  0.72705481 -0.21961213\n",
            "  0.08154438 -0.42577022 -1.12250457 -0.77031654 -0.61979213 -0.62591063\n",
            "  1.25543518  1.50284361 -0.89738407 -0.59800716 -0.84736872  1.31039259\n",
            " -1.20842369 -2.42349415 -0.19204546 -0.29926019  1.50446737 -0.90362123\n",
            " -0.43853243  1.33139555  1.48403249 -0.5202359   1.64727819 -0.42320074\n",
            "  0.34819242  0.04837692  1.35636384 -0.2957196   1.44601969 -0.89955257\n",
            " -1.14399826 -0.58798451 -0.09022204  0.65537032 -0.00429022  1.08120811\n",
            " -2.3181558   0.31533967 -1.6815743  -0.88882904 -2.75783258  0.44253708\n",
            "  0.72116429 -0.19777498  1.34438537 -1.02313738  0.63135372 -0.41817843\n",
            "  1.24380152 -0.0077989   0.72998068  0.13094467  0.15237196 -1.26188097\n",
            "  0.99082522  0.30924267  0.4680801  -0.33426438 -1.95496893 -2.24920618\n",
            " -0.81724887  0.18585519 -0.83146896 -0.59497634  2.15311547 -0.47782419\n",
            " -0.59198613 -1.32873694 -1.11730581 -0.47047086]\n"
          ]
        },
        {
          "output_type": "execute_result",
          "data": {
            "text/plain": [
              "(array([ 4.,  1.,  7., 14., 26., 14., 14.,  9.,  8.,  3.]),\n",
              " array([-2.75783258, -2.23115008, -1.70446759, -1.17778509, -0.6511026 ,\n",
              "        -0.1244201 ,  0.40226239,  0.92894488,  1.45562738,  1.98230987,\n",
              "         2.50899237]),\n",
              " <a list of 10 Patch objects>)"
            ]
          },
          "metadata": {},
          "execution_count": 49
        },
        {
          "output_type": "display_data",
          "data": {
            "text/plain": [
              "<Figure size 432x288 with 1 Axes>"
            ],
            "image/png": "[encoded data removed]"
          },
          "metadata": {
            "needs_background": "light"
          }
        }
      ]
    },
    {
      "cell_type": "markdown",
      "source": [
        "**3. generate a since curve**  매우 중요!!"
      ],
      "metadata": {
        "id": "6vfivrbTB6RI"
      }
    },
    {
      "cell_type": "code",
      "source": [
        "plt.figure() #figure라는 함수(공간 만들어줌)\n",
        "\n",
        "theta1 = np.linspace(0, 2*np.pi, 100)\n",
        "s1 = np.sin(theta1)\n",
        "theta2 = np.linspace(0, 2*np.pi, 100) + np.pi/2\n",
        "s2 = np.sin(theta2)\n",
        "\n",
        "plt.subplot(2, 1, 1) # (rows, columns, panel number)\n",
        "plt.plot(theta1, s1, '.')\n",
        "plt.subplot(2, 1, 2) # (rows, columns, panel number)\n",
        "plt.plot(theta2, s2, '.')"
      ],
      "metadata": {
        "colab": {
          "base_uri": "https://localhost:8080/",
          "height": 283
        },
        "id": "Ipl_QwosB-cA",
        "outputId": "ba362c98-d5b6-4778-9612-7dba926ce854"
      },
      "execution_count": 50,
      "outputs": [
        {
          "output_type": "execute_result",
          "data": {
            "text/plain": [
              "[<matplotlib.lines.Line2D at 0x7f43e5b34f10>]"
            ]
          },
          "metadata": {},
          "execution_count": 50
        },
        {
          "output_type": "display_data",
          "data": {
            "text/plain": [
              "<Figure size 432x288 with 2 Axes>"
            ],
            "image/png": "[encoded data removed]"
          },
          "metadata": {
            "needs_background": "light"
          }
        }
      ]
    },
    {
      "cell_type": "markdown",
      "source": [
        "*Correlation Coefficient\n",
        "-1=<r=<1\n",
        "r>0시 정비례, r<0 시 반비례\n",
        "절댓값 r이 1에 가까울 수록 뭉쳐있고 0ㅇ 더 멀어질 수록 두루뭉실해짐. "
      ],
      "metadata": {
        "id": "h2t9DrrOCNsv"
      }
    },
    {
      "cell_type": "code",
      "source": [
        "np.corrcoef(s1,s2)   #1.00000000e+00은 0이고 2.419ajtlrleh 0dlslRK rufrhksms 0"
      ],
      "metadata": {
        "colab": {
          "base_uri": "https://localhost:8080/"
        },
        "id": "Gdm_RxHQCewC",
        "outputId": "31d8f30d-e938-43e0-d8e3-409cdfe4eb0f"
      },
      "execution_count": 51,
      "outputs": [
        {
          "output_type": "execute_result",
          "data": {
            "text/plain": [
              "array([[1.00000000e+00, 2.41915449e-17],\n",
              "       [2.41915449e-17, 1.00000000e+00]])"
            ]
          },
          "metadata": {},
          "execution_count": 51
        }
      ]
    }
  ]
}